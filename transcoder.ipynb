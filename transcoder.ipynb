# DICTIONARIES FOR TRANSCODING

double_letters = {'kh': u'\N{DEVANAGARI LETTER KHA}', 'ṭh': u'\N{DEVANAGARI LETTER TTHA}',
               'th': u'\N{DEVANAGARI LETTER THA}', 'ch': u'\N{DEVANAGARI LETTER CHA}',
               'ph': u'\N{DEVANAGARI LETTER PHA}', 'gh': u'\N{DEVANAGARI LETTER GHA}',
               'jh': u'\N{DEVANAGARI LETTER JHA}', 'ḍh': u'\N{DEVANAGARI LETTER DDHA}',
               'dh': u'\N{DEVANAGARI LETTER DHA}', 'bh': u'\N{DEVANAGARI LETTER BHA}'
}

double_vowel_signs = {'au': u'\N{DEVANAGARI VOWEL SIGN AU}', 'ai': u'\N{DEVANAGARI VOWEL SIGN AI}'}

double_vowels = {'ai': u'\N{DEVANAGARI LETTER AI}', 'au': u'\N{DEVANAGARI LETTER AU}' }


vowel_signs = {'a': "", 'ā': u'\N{DEVANAGARI VOWEL SIGN AA}', 'i': u'\N{DEVANAGARI VOWEL SIGN I}',
               'ī': u'\N{DEVANAGARI VOWEL SIGN II}', 'u': u'\N{DEVANAGARI VOWEL SIGN U}',
               'ū': u'\N{DEVANAGARI VOWEL SIGN UU}', 'e': u'\N{DEVANAGARI VOWEL SIGN E}',
               'ai': u'\N{DEVANAGARI VOWEL SIGN AI}', 'o': u'\N{DEVANAGARI VOWEL SIGN O}',
               'au': u'\N{DEVANAGARI VOWEL SIGN AU}', 'ṛ': u'\N{DEVANAGARI VOWEL SIGN VOCALIC R}',
               'ṝ': u'\N{DEVANAGARI VOWEL SIGN VOCALIC RR}', 'ḷ': u'\N{DEVANAGARI VOWEL SIGN VOCALIC L}',
               'ḹ': u'\N{DEVANAGARI VOWEL SIGN VOCALIC LL}'               } 

vowels = {'a': u'\N{DEVANAGARI LETTER A}', 'ā': u'\N{DEVANAGARI LETTER AA}', 'i': u'\N{DEVANAGARI LETTER I}',
               'ī': u'\N{DEVANAGARI LETTER II}', 'u': u'\N{DEVANAGARI LETTER U}',
               'ū': u'\N{DEVANAGARI LETTER UU}', 'e': u'\N{DEVANAGARI LETTER E}',
               'ai': u'\N{DEVANAGARI LETTER AI}', 'o': u'\N{DEVANAGARI LETTER O}',
               'au': u'\N{DEVANAGARI LETTER AU}', 'ṛ': u'\N{DEVANAGARI LETTER VOCALIC R}'}                

consonants = {'k': u'\N{DEVANAGARI LETTER KA}', 'c': u'\N{DEVANAGARI LETTER CA}',
               'ṭ': u'\N{DEVANAGARI LETTER TTA}', 't': u'\N{DEVANAGARI LETTER TA}',
               'p': u'\N{DEVANAGARI LETTER PA}', 
              
              'g': u'\N{DEVANAGARI LETTER GA}', 'j': u'\N{DEVANAGARI LETTER JA}',
              'ḍ': u'\N{DEVANAGARI LETTER DDA}', 'd': u'\N{DEVANAGARI LETTER DA}', 
              'b': u'\N{DEVANAGARI LETTER BA}',

              'ṅ': u'\N{DEVANAGARI LETTER NGA}', 'ñ': u'\N{DEVANAGARI LETTER NYA}',
              'ṇ': u'\N{DEVANAGARI LETTER NNA}', 'n': u'\N{DEVANAGARI LETTER NA}', 
              'm': u'\N{DEVANAGARI LETTER MA}',
              
              'h': u'\N{DEVANAGARI LETTER HA}', 'y': u'\N{DEVANAGARI LETTER YA}',
              'r': u'\N{DEVANAGARI LETTER RA}', 'l': u'\N{DEVANAGARI LETTER LA}', 
              'v': u'\N{DEVANAGARI LETTER VA}',
              
              'ś': u'\N{DEVANAGARI LETTER SHA}', 'ṣ': u'\N{DEVANAGARI LETTER SSA}',
              's': u'\N{DEVANAGARI LETTER SA}',

              'ḻ': u'\N{DEVANAGARI LETTER LLA}'
              } 

signs = { 'ṃ': u'\N{DEVANAGARI SIGN ANUSVARA}', 'ṁ': u'\N{DEVANAGARI SIGN ANUSVARA}', 'ḥ': u'\N{DEVANAGARI SIGN VISARGA}', 
         '˜': u'\N{DEVANAGARI SIGN CANDRABINDU}', 'm̐': u'\N{DEVANAGARI SIGN CANDRABINDU}',' \' ': u'\N{DEVANAGARI SIGN AVAGRAHA}', '1': u'\N{DEVANAGARI DIGIT ONE}' }                

# TAKE IN USER INPUT - IAST

cleaned_txt = input("enter the text: ")

# TRANSCODER FUNCTION

def transcode(s):
    while s.find("m̐") != -1: 
      s = s.replace("m̐", u'\N{DEVANAGARI SIGN CANDRABINDU}')

    for keys in double_letters.keys():
      while s.find(keys) != -1:
          s = s.replace(keys, double_letters[keys] + u'\N{DEVANAGARI SIGN VIRAMA}')
    
    for keys in consonants.keys():
         while s.find(keys) != -1:
          s = s.replace(keys, consonants[keys] + u'\N{DEVANAGARI SIGN VIRAMA}')

    for keys in double_vowel_signs.keys():
      while s.find(keys) != -1:
        c = s.find(keys)
        if c-1 in range(len(s)) and s[c-1] == u'\N{DEVANAGARI SIGN VIRAMA}':
            s = s[:c] + double_vowel_signs[s[c] + s[c+1]] + s[c+2:]   #replace vowel sign
            s = s[:c-1] + s[c:]   #remove virama
        else:
            s = s[:c] + double_vowels[s[c] + s[c+1]] + s[c+2:]   #replace vowel

    for c in range(len(s)):
      if s[c] in signs.keys():
        s = s.replace(s[c], signs[s[c]])
        if c-1 in range(len(s)) and s[c-1] == u'\N{DEVANAGARI SIGN VIRAMA}':
          s = s[:c-1] + s[c:]

    for i in range(len(s)):
      if i in range(len(s)):
        if s[i] in consonants.keys():
          s = s.replace(s[i], consonants[s[i]] + u'\N{DEVANAGARI SIGN VIRAMA}')

        if s[i] in vowel_signs.keys():
          if i-1 in range(len(s)) and s[i-1] == u'\N{DEVANAGARI SIGN VIRAMA}':
            s = s[:i] + vowel_signs[s[i]] + s[i+1:]   #replace vowel sign
            s = s[:i-1] + s[i:]   #remove virama

        if s[i] in vowel_signs.values() and i-1 in range(len(s)) and s[i-1] == u'\N{DEVANAGARI SIGN VIRAMA}':
            s = s[:i-1] + s[i:]   #remove virama

    for i in range(len(s)):
        if s[i] in vowel_signs.keys():
            s = s[:i] + vowels[s[i]] + s[i+1:]
     
    return s

result = transcode(cleaned_txt)
print(result)
